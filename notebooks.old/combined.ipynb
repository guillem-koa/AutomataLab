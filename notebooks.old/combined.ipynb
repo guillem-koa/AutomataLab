{
 "cells": [
  {
   "cell_type": "markdown",
   "metadata": {},
   "source": [
    "# Combined\n",
    "* Reads through 'outputs/' folder and creates the 'outputs/combined.xlsx'"
   ]
  },
  {
   "cell_type": "code",
   "execution_count": 1,
   "metadata": {},
   "outputs": [],
   "source": [
    "import numpy as np\n",
    "import pandas as pd\n",
    "import os"
   ]
  },
  {
   "cell_type": "code",
   "execution_count": 2,
   "metadata": {},
   "outputs": [],
   "source": [
    "experiments_dir = '/Users/guillemcobos/Library/CloudStorage/GoogleDrive-guillem.cobos@koabiotech.com/.shortcut-targets-by-id/1UQ_YnLRmoAqhCue-qXYNP9QhYorsiAxS/KOA Biotech/01. AUTOMATA LAB/EXPERIMENTS'"
   ]
  },
  {
   "cell_type": "code",
   "execution_count": 3,
   "metadata": {},
   "outputs": [],
   "source": [
    "experiments_dir = '/Users/guillemcobos/Library/CloudStorage/GoogleDrive-guillem.cobos@koabiotech.com/.shortcut-targets-by-id/1UQ_YnLRmoAqhCue-qXYNP9QhYorsiAxS/KOA Biotech/01. AUTOMATA LAB/EXPERIMENTS'\n",
    "experiments_paths_all = sorted(os.listdir(experiments_dir))\n",
    "experiments_paths = [os.path.join(experiments_dir, dir) for dir in experiments_paths_all[1:-2]]\n",
    "experiments_paths = [dir for dir in experiments_paths if 'WATER' in dir or 'PAT' in dir]\n",
    "#experiments_paths = experiments_paths[-15:] # select the folders you want to update"
   ]
  },
  {
   "cell_type": "code",
   "execution_count": 4,
   "metadata": {},
   "outputs": [],
   "source": [
    "plates_paths = []\n",
    "for dir in experiments_paths:\n",
    "    if os.path.exists(os.path.join(dir, 'PLATE1')): plates_paths.append(os.path.join(dir, 'PLATE1'))\n",
    "    if os.path.exists(os.path.join(dir, 'PLATE2')): plates_paths.append(os.path.join(dir, 'PLATE2'))"
   ]
  },
  {
   "cell_type": "code",
   "execution_count": 6,
   "metadata": {},
   "outputs": [
    {
     "name": "stdout",
     "output_type": "stream",
     "text": [
      "/Users/guillemcobos/Library/CloudStorage/GoogleDrive-guillem.cobos@koabiotech.com/.shortcut-targets-by-id/1UQ_YnLRmoAqhCue-qXYNP9QhYorsiAxS/KOA Biotech/01. AUTOMATA LAB/EXPERIMENTS/2023-05-04 PATHOGEN/PLATE1\n",
      "/Users/guillemcobos/Library/CloudStorage/GoogleDrive-guillem.cobos@koabiotech.com/.shortcut-targets-by-id/1UQ_YnLRmoAqhCue-qXYNP9QhYorsiAxS/KOA Biotech/01. AUTOMATA LAB/EXPERIMENTS/2023-05-04 PATHOGEN/PLATE2\n",
      "/Users/guillemcobos/Library/CloudStorage/GoogleDrive-guillem.cobos@koabiotech.com/.shortcut-targets-by-id/1UQ_YnLRmoAqhCue-qXYNP9QhYorsiAxS/KOA Biotech/01. AUTOMATA LAB/EXPERIMENTS/2023-05-10 PATHOGEN/PLATE1\n",
      "/Users/guillemcobos/Library/CloudStorage/GoogleDrive-guillem.cobos@koabiotech.com/.shortcut-targets-by-id/1UQ_YnLRmoAqhCue-qXYNP9QhYorsiAxS/KOA Biotech/01. AUTOMATA LAB/EXPERIMENTS/2023-05-15 PATHOGEN/PLATE1\n",
      "/Users/guillemcobos/Library/CloudStorage/GoogleDrive-guillem.cobos@koabiotech.com/.shortcut-targets-by-id/1UQ_YnLRmoAqhCue-qXYNP9QhYorsiAxS/KOA Biotech/01. AUTOMATA LAB/EXPERIMENTS/2023-05-15 PATHOGEN/PLATE2\n",
      "/Users/guillemcobos/Library/CloudStorage/GoogleDrive-guillem.cobos@koabiotech.com/.shortcut-targets-by-id/1UQ_YnLRmoAqhCue-qXYNP9QhYorsiAxS/KOA Biotech/01. AUTOMATA LAB/EXPERIMENTS/2023-05-17 PATHOGEN/PLATE1\n",
      "/Users/guillemcobos/Library/CloudStorage/GoogleDrive-guillem.cobos@koabiotech.com/.shortcut-targets-by-id/1UQ_YnLRmoAqhCue-qXYNP9QhYorsiAxS/KOA Biotech/01. AUTOMATA LAB/EXPERIMENTS/2023-05-17 PATHOGEN/PLATE2\n",
      "/Users/guillemcobos/Library/CloudStorage/GoogleDrive-guillem.cobos@koabiotech.com/.shortcut-targets-by-id/1UQ_YnLRmoAqhCue-qXYNP9QhYorsiAxS/KOA Biotech/01. AUTOMATA LAB/EXPERIMENTS/2023-06-21_18:19:17 WATER/PLATE1\n",
      "/Users/guillemcobos/Library/CloudStorage/GoogleDrive-guillem.cobos@koabiotech.com/.shortcut-targets-by-id/1UQ_YnLRmoAqhCue-qXYNP9QhYorsiAxS/KOA Biotech/01. AUTOMATA LAB/EXPERIMENTS/2023-06-21_18:19:17 WATER/PLATE2\n",
      "/Users/guillemcobos/Library/CloudStorage/GoogleDrive-guillem.cobos@koabiotech.com/.shortcut-targets-by-id/1UQ_YnLRmoAqhCue-qXYNP9QhYorsiAxS/KOA Biotech/01. AUTOMATA LAB/EXPERIMENTS/2023-06-21_19:04:44 WATER/PLATE1\n",
      "/Users/guillemcobos/Library/CloudStorage/GoogleDrive-guillem.cobos@koabiotech.com/.shortcut-targets-by-id/1UQ_YnLRmoAqhCue-qXYNP9QhYorsiAxS/KOA Biotech/01. AUTOMATA LAB/EXPERIMENTS/2023-06-22_19:28:37 WATER   PATHOGEN/PLATE1\n",
      "/Users/guillemcobos/Library/CloudStorage/GoogleDrive-guillem.cobos@koabiotech.com/.shortcut-targets-by-id/1UQ_YnLRmoAqhCue-qXYNP9QhYorsiAxS/KOA Biotech/01. AUTOMATA LAB/EXPERIMENTS/2023-06-22_19:28:37 WATER   PATHOGEN/PLATE2\n",
      "/Users/guillemcobos/Library/CloudStorage/GoogleDrive-guillem.cobos@koabiotech.com/.shortcut-targets-by-id/1UQ_YnLRmoAqhCue-qXYNP9QhYorsiAxS/KOA Biotech/01. AUTOMATA LAB/EXPERIMENTS/2023-06-22_19:43:50 WATER/PLATE1\n",
      "/Users/guillemcobos/Library/CloudStorage/GoogleDrive-guillem.cobos@koabiotech.com/.shortcut-targets-by-id/1UQ_YnLRmoAqhCue-qXYNP9QhYorsiAxS/KOA Biotech/01. AUTOMATA LAB/EXPERIMENTS/2023-06-22_19:43:50 WATER/PLATE2\n",
      "/Users/guillemcobos/Library/CloudStorage/GoogleDrive-guillem.cobos@koabiotech.com/.shortcut-targets-by-id/1UQ_YnLRmoAqhCue-qXYNP9QhYorsiAxS/KOA Biotech/01. AUTOMATA LAB/EXPERIMENTS/2023-06-22_19:57:14 WATER/PLATE1\n",
      "/Users/guillemcobos/Library/CloudStorage/GoogleDrive-guillem.cobos@koabiotech.com/.shortcut-targets-by-id/1UQ_YnLRmoAqhCue-qXYNP9QhYorsiAxS/KOA Biotech/01. AUTOMATA LAB/EXPERIMENTS/2023-06-22_19:57:14 WATER/PLATE2\n",
      "/Users/guillemcobos/Library/CloudStorage/GoogleDrive-guillem.cobos@koabiotech.com/.shortcut-targets-by-id/1UQ_YnLRmoAqhCue-qXYNP9QhYorsiAxS/KOA Biotech/01. AUTOMATA LAB/EXPERIMENTS/2023-06-23_17:18:01 WATER/PLATE1\n",
      "/Users/guillemcobos/Library/CloudStorage/GoogleDrive-guillem.cobos@koabiotech.com/.shortcut-targets-by-id/1UQ_YnLRmoAqhCue-qXYNP9QhYorsiAxS/KOA Biotech/01. AUTOMATA LAB/EXPERIMENTS/2023-06-23_17:23:24 WATER/PLATE1\n",
      "/Users/guillemcobos/Library/CloudStorage/GoogleDrive-guillem.cobos@koabiotech.com/.shortcut-targets-by-id/1UQ_YnLRmoAqhCue-qXYNP9QhYorsiAxS/KOA Biotech/01. AUTOMATA LAB/EXPERIMENTS/2023-06-23_17:23:24 WATER/PLATE2\n",
      "/Users/guillemcobos/Library/CloudStorage/GoogleDrive-guillem.cobos@koabiotech.com/.shortcut-targets-by-id/1UQ_YnLRmoAqhCue-qXYNP9QhYorsiAxS/KOA Biotech/01. AUTOMATA LAB/EXPERIMENTS/2023-06-23_17:55:35 WATER/PLATE1\n",
      "/Users/guillemcobos/Library/CloudStorage/GoogleDrive-guillem.cobos@koabiotech.com/.shortcut-targets-by-id/1UQ_YnLRmoAqhCue-qXYNP9QhYorsiAxS/KOA Biotech/01. AUTOMATA LAB/EXPERIMENTS/2023-06-28_15:06:44 WATER AVRAMAR/PLATE1\n",
      "/Users/guillemcobos/Library/CloudStorage/GoogleDrive-guillem.cobos@koabiotech.com/.shortcut-targets-by-id/1UQ_YnLRmoAqhCue-qXYNP9QhYorsiAxS/KOA Biotech/01. AUTOMATA LAB/EXPERIMENTS/2023-06-28_15:06:44 WATER AVRAMAR/PLATE2\n",
      "/Users/guillemcobos/Library/CloudStorage/GoogleDrive-guillem.cobos@koabiotech.com/.shortcut-targets-by-id/1UQ_YnLRmoAqhCue-qXYNP9QhYorsiAxS/KOA Biotech/01. AUTOMATA LAB/EXPERIMENTS/2023-06-29_17:51:58 PATOGEN/PLATE1\n",
      "/Users/guillemcobos/Library/CloudStorage/GoogleDrive-guillem.cobos@koabiotech.com/.shortcut-targets-by-id/1UQ_YnLRmoAqhCue-qXYNP9QhYorsiAxS/KOA Biotech/01. AUTOMATA LAB/EXPERIMENTS/2023-06-29_17:51:58 PATOGEN/PLATE2\n",
      "/Users/guillemcobos/Library/CloudStorage/GoogleDrive-guillem.cobos@koabiotech.com/.shortcut-targets-by-id/1UQ_YnLRmoAqhCue-qXYNP9QhYorsiAxS/KOA Biotech/01. AUTOMATA LAB/EXPERIMENTS/2023-07-06_17:32:51 WATER/PLATE1\n",
      "/Users/guillemcobos/Library/CloudStorage/GoogleDrive-guillem.cobos@koabiotech.com/.shortcut-targets-by-id/1UQ_YnLRmoAqhCue-qXYNP9QhYorsiAxS/KOA Biotech/01. AUTOMATA LAB/EXPERIMENTS/2023-07-06_17:40:01 WATER/PLATE1\n",
      "/Users/guillemcobos/Library/CloudStorage/GoogleDrive-guillem.cobos@koabiotech.com/.shortcut-targets-by-id/1UQ_YnLRmoAqhCue-qXYNP9QhYorsiAxS/KOA Biotech/01. AUTOMATA LAB/EXPERIMENTS/2023-07-06_17:40:01 WATER/PLATE2\n",
      "/Users/guillemcobos/Library/CloudStorage/GoogleDrive-guillem.cobos@koabiotech.com/.shortcut-targets-by-id/1UQ_YnLRmoAqhCue-qXYNP9QhYorsiAxS/KOA Biotech/01. AUTOMATA LAB/EXPERIMENTS/2023-07-06_18:00:06 PATHOGEN/PLATE1\n",
      "/Users/guillemcobos/Library/CloudStorage/GoogleDrive-guillem.cobos@koabiotech.com/.shortcut-targets-by-id/1UQ_YnLRmoAqhCue-qXYNP9QhYorsiAxS/KOA Biotech/01. AUTOMATA LAB/EXPERIMENTS/2023-07-06_18:00:06 PATHOGEN/PLATE2\n",
      "/Users/guillemcobos/Library/CloudStorage/GoogleDrive-guillem.cobos@koabiotech.com/.shortcut-targets-by-id/1UQ_YnLRmoAqhCue-qXYNP9QhYorsiAxS/KOA Biotech/01. AUTOMATA LAB/EXPERIMENTS/2023-07-07 PATHOGEN/PLATE1\n",
      "/Users/guillemcobos/Library/CloudStorage/GoogleDrive-guillem.cobos@koabiotech.com/.shortcut-targets-by-id/1UQ_YnLRmoAqhCue-qXYNP9QhYorsiAxS/KOA Biotech/01. AUTOMATA LAB/EXPERIMENTS/2023-07-13_18:21:21 WATER AVRAMAR/PLATE1\n",
      "/Users/guillemcobos/Library/CloudStorage/GoogleDrive-guillem.cobos@koabiotech.com/.shortcut-targets-by-id/1UQ_YnLRmoAqhCue-qXYNP9QhYorsiAxS/KOA Biotech/01. AUTOMATA LAB/EXPERIMENTS/2023-07-13_18:21:21 WATER AVRAMAR/PLATE2\n",
      "/Users/guillemcobos/Library/CloudStorage/GoogleDrive-guillem.cobos@koabiotech.com/.shortcut-targets-by-id/1UQ_YnLRmoAqhCue-qXYNP9QhYorsiAxS/KOA Biotech/01. AUTOMATA LAB/EXPERIMENTS/2023-07-14_15:56:45 WATER/PLATE1\n",
      "/Users/guillemcobos/Library/CloudStorage/GoogleDrive-guillem.cobos@koabiotech.com/.shortcut-targets-by-id/1UQ_YnLRmoAqhCue-qXYNP9QhYorsiAxS/KOA Biotech/01. AUTOMATA LAB/EXPERIMENTS/2023-07-14_15:56:45 WATER/PLATE2\n",
      "/Users/guillemcobos/Library/CloudStorage/GoogleDrive-guillem.cobos@koabiotech.com/.shortcut-targets-by-id/1UQ_YnLRmoAqhCue-qXYNP9QhYorsiAxS/KOA Biotech/01. AUTOMATA LAB/EXPERIMENTS/2023-07-14_16:13:46 WATER/PLATE1\n",
      "/Users/guillemcobos/Library/CloudStorage/GoogleDrive-guillem.cobos@koabiotech.com/.shortcut-targets-by-id/1UQ_YnLRmoAqhCue-qXYNP9QhYorsiAxS/KOA Biotech/01. AUTOMATA LAB/EXPERIMENTS/2023-07-14_16:13:46 WATER/PLATE2\n",
      "/Users/guillemcobos/Library/CloudStorage/GoogleDrive-guillem.cobos@koabiotech.com/.shortcut-targets-by-id/1UQ_YnLRmoAqhCue-qXYNP9QhYorsiAxS/KOA Biotech/01. AUTOMATA LAB/EXPERIMENTS/2023-07-14_16:17:45 WATER/PLATE1\n",
      "/Users/guillemcobos/Library/CloudStorage/GoogleDrive-guillem.cobos@koabiotech.com/.shortcut-targets-by-id/1UQ_YnLRmoAqhCue-qXYNP9QhYorsiAxS/KOA Biotech/01. AUTOMATA LAB/EXPERIMENTS/2023-07-22_20:32:36 WATER/PLATE1\n",
      "/Users/guillemcobos/Library/CloudStorage/GoogleDrive-guillem.cobos@koabiotech.com/.shortcut-targets-by-id/1UQ_YnLRmoAqhCue-qXYNP9QhYorsiAxS/KOA Biotech/01. AUTOMATA LAB/EXPERIMENTS/2023-07-22_20:32:36 WATER/PLATE2\n",
      "/Users/guillemcobos/Library/CloudStorage/GoogleDrive-guillem.cobos@koabiotech.com/.shortcut-targets-by-id/1UQ_YnLRmoAqhCue-qXYNP9QhYorsiAxS/KOA Biotech/01. AUTOMATA LAB/EXPERIMENTS/2023-07-22_20:38:59 WATER/PLATE1\n",
      "/Users/guillemcobos/Library/CloudStorage/GoogleDrive-guillem.cobos@koabiotech.com/.shortcut-targets-by-id/1UQ_YnLRmoAqhCue-qXYNP9QhYorsiAxS/KOA Biotech/01. AUTOMATA LAB/EXPERIMENTS/2023-07-22_20:38:59 WATER/PLATE2\n",
      "/Users/guillemcobos/Library/CloudStorage/GoogleDrive-guillem.cobos@koabiotech.com/.shortcut-targets-by-id/1UQ_YnLRmoAqhCue-qXYNP9QhYorsiAxS/KOA Biotech/01. AUTOMATA LAB/EXPERIMENTS/2023-07-22_20:45:41 WATER/PLATE1\n",
      "/Users/guillemcobos/Library/CloudStorage/GoogleDrive-guillem.cobos@koabiotech.com/.shortcut-targets-by-id/1UQ_YnLRmoAqhCue-qXYNP9QhYorsiAxS/KOA Biotech/01. AUTOMATA LAB/EXPERIMENTS/2023-07-22_20:45:41 WATER/PLATE2\n",
      "/Users/guillemcobos/Library/CloudStorage/GoogleDrive-guillem.cobos@koabiotech.com/.shortcut-targets-by-id/1UQ_YnLRmoAqhCue-qXYNP9QhYorsiAxS/KOA Biotech/01. AUTOMATA LAB/EXPERIMENTS/2023-07-22_20:56:27 WATER/PLATE1\n",
      "/Users/guillemcobos/Library/CloudStorage/GoogleDrive-guillem.cobos@koabiotech.com/.shortcut-targets-by-id/1UQ_YnLRmoAqhCue-qXYNP9QhYorsiAxS/KOA Biotech/01. AUTOMATA LAB/EXPERIMENTS/2023-07-26_17:37:01 PATHOGEN/PLATE1\n",
      "/Users/guillemcobos/Library/CloudStorage/GoogleDrive-guillem.cobos@koabiotech.com/.shortcut-targets-by-id/1UQ_YnLRmoAqhCue-qXYNP9QhYorsiAxS/KOA Biotech/01. AUTOMATA LAB/EXPERIMENTS/2023-07-27_21:15:09 PATHOGEN/PLATE1\n",
      "/Users/guillemcobos/Library/CloudStorage/GoogleDrive-guillem.cobos@koabiotech.com/.shortcut-targets-by-id/1UQ_YnLRmoAqhCue-qXYNP9QhYorsiAxS/KOA Biotech/01. AUTOMATA LAB/EXPERIMENTS/2023-07-27_21:15:09 PATHOGEN/PLATE2\n",
      "/Users/guillemcobos/Library/CloudStorage/GoogleDrive-guillem.cobos@koabiotech.com/.shortcut-targets-by-id/1UQ_YnLRmoAqhCue-qXYNP9QhYorsiAxS/KOA Biotech/01. AUTOMATA LAB/EXPERIMENTS/2023-07-29_18:21:27 PATHOGEN/PLATE1\n",
      "/Users/guillemcobos/Library/CloudStorage/GoogleDrive-guillem.cobos@koabiotech.com/.shortcut-targets-by-id/1UQ_YnLRmoAqhCue-qXYNP9QhYorsiAxS/KOA Biotech/01. AUTOMATA LAB/EXPERIMENTS/2023-07-29_18:21:27 PATHOGEN/PLATE2\n",
      "/Users/guillemcobos/Library/CloudStorage/GoogleDrive-guillem.cobos@koabiotech.com/.shortcut-targets-by-id/1UQ_YnLRmoAqhCue-qXYNP9QhYorsiAxS/KOA Biotech/01. AUTOMATA LAB/EXPERIMENTS/2023-07-29_18:26:03 WATER/PLATE1\n",
      "/Users/guillemcobos/Library/CloudStorage/GoogleDrive-guillem.cobos@koabiotech.com/.shortcut-targets-by-id/1UQ_YnLRmoAqhCue-qXYNP9QhYorsiAxS/KOA Biotech/01. AUTOMATA LAB/EXPERIMENTS/2023-07-29_18:26:03 WATER/PLATE2\n",
      "/Users/guillemcobos/Library/CloudStorage/GoogleDrive-guillem.cobos@koabiotech.com/.shortcut-targets-by-id/1UQ_YnLRmoAqhCue-qXYNP9QhYorsiAxS/KOA Biotech/01. AUTOMATA LAB/EXPERIMENTS/2023-08-04_12:00:05 PATHOGEN/PLATE1\n",
      "/Users/guillemcobos/Library/CloudStorage/GoogleDrive-guillem.cobos@koabiotech.com/.shortcut-targets-by-id/1UQ_YnLRmoAqhCue-qXYNP9QhYorsiAxS/KOA Biotech/01. AUTOMATA LAB/EXPERIMENTS/2023-08-04_12:00:05 PATHOGEN/PLATE2\n"
     ]
    }
   ],
   "source": [
    "for plate_path in plates_paths:\n",
    "    outputs_path = os.path.join(plate_path, 'outputs')\n",
    "    if os.path.exists(outputs_path):\n",
    "        if os.path.exists(outputs_path + '/measures.xlsx') and os.path.exists(outputs_path + '/readings.xlsx'):\n",
    "            measures = pd.read_excel(outputs_path + '/measures.xlsx')\n",
    "            readings = pd.read_excel(outputs_path + '/readings.xlsx')\n",
    "\n",
    "            cols = ['LAS_abs', 'TRA_abs', 'LUX_abs', 'RHL_abs', 'CQSS_abs','CQSSNo_abs', 'AHY_abs', 'CEP_abs', 'CVI_abs', 'RSTA_abs', 'Blanc_abs', 'LAS_gfp','TRA_gfp', 'LUX_gfp', 'RHL_gfp', 'CQSS_gfp', 'CQSSNo_gfp', 'AHY_gfp','CEP_gfp', 'CVI_gfp', 'RSTA_gfp', 'Blanc_gfp']\n",
    "            setting_vars = [feature for feature in measures.columns if feature not in cols]\n",
    "            setting_vars_df = measures[setting_vars]\n",
    "            measures = measures[cols]\n",
    "            measures.columns =  [col + '_measure' for col in cols]\n",
    "            readings = readings[cols]\n",
    "            readings.columns = [col + '_reading' for col in cols]\n",
    "\n",
    "            print(plate_path)\n",
    "            combined_df = pd.concat([setting_vars_df, measures, readings], axis = 1)\n",
    "\n",
    "        elif os.path.exists(outputs_path + '/measures.xlsx'):\n",
    "            measures = pd.read_excel(outputs_path + '/measures.xlsx')\n",
    "            cols = ['LAS_abs', 'TRA_abs', 'LUX_abs', 'RHL_abs', 'CQSS_abs','CQSSNo_abs', 'AHY_abs', 'CEP_abs', 'CVI_abs', 'RSTA_abs', 'Blanc_abs', 'LAS_gfp','TRA_gfp', 'LUX_gfp', 'RHL_gfp', 'CQSS_gfp', 'CQSSNo_gfp', 'AHY_gfp','CEP_gfp', 'CVI_gfp', 'RSTA_gfp', 'Blanc_gfp']\n",
    "            setting_vars = [feature for feature in measures.columns if feature not in cols]\n",
    "            setting_vars_df = measures[setting_vars]\n",
    "            measures = measures[cols]\n",
    "            measures.columns =  [col + '_measure' for col in cols]\n",
    "                    \n",
    "            print(plate_path)\n",
    "            combined_df = pd.concat([setting_vars_df, measures], axis = 1)\n",
    "\n",
    "        elif os.path.exists(outputs_path + '/readings.xlsx'):\n",
    "            readings = pd.read_excel(outputs_path + '/readings.xlsx')\n",
    "            cols = ['LAS_abs', 'TRA_abs', 'LUX_abs', 'RHL_abs', 'CQSS_abs','CQSSNo_abs', 'AHY_abs', 'CEP_abs', 'CVI_abs', 'RSTA_abs', 'Blanc_abs', 'LAS_gfp','TRA_gfp', 'LUX_gfp', 'RHL_gfp', 'CQSS_gfp', 'CQSSNo_gfp', 'AHY_gfp','CEP_gfp', 'CVI_gfp', 'RSTA_gfp', 'Blanc_gfp']\n",
    "            setting_vars = [feature for feature in readings.columns if feature not in cols]\n",
    "            setting_vars_df = readings[setting_vars]\n",
    "            readings = readings[cols]\n",
    "            readings.columns = [col + '_reading' for col in cols]\n",
    "\n",
    "\n",
    "            print(plate_path)\n",
    "            combined_df = pd.concat([setting_vars_df, readings], axis = 1)\n",
    "            \n",
    "        combined_df.to_excel(os.path.join(plate_path, 'outputs', 'combined.xlsx'), index=False)\n"
   ]
  }
 ],
 "metadata": {
  "kernelspec": {
   "display_name": "Python 3 (ipykernel)",
   "language": "python",
   "name": "python3"
  },
  "language_info": {
   "codemirror_mode": {
    "name": "ipython",
    "version": 3
   },
   "file_extension": ".py",
   "mimetype": "text/x-python",
   "name": "python",
   "nbconvert_exporter": "python",
   "pygments_lexer": "ipython3",
   "version": "3.10.10"
  }
 },
 "nbformat": 4,
 "nbformat_minor": 2
}
